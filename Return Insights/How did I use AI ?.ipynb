{
 "cells": [
  {
   "cell_type": "markdown",
   "id": "e43b0f22-fe34-41a0-b280-cb9dd46f9961",
   "metadata": {},
   "source": [
    "## How did I use AI?\n",
    "I used AI to find out how to import prices with Yahoo Finance in Python, and I asked: \"Comment importer des prix de yahoo finance en python\".\n",
    "\n",
    "I used AI to find out how to display a table in Python, and I asked: \"peux tu me faire un joli tableau python qui affiche les données d'un dictionnaire avec de indice et une moyenne apr indice\".\n",
    "\n",
    "I used AI to learn how to do linear regression in Python, and I asked: \"comment faire une regression linéaire avec python\".\n",
    "\n",
    "I used AI to figure out how to draw a graph for steps 5 and 6. I asked:\n",
    "\"peux tu me dessiner la droite du CAPM (graphe) en rajoutant cela à mon code from utils import Capm # Import the Capm class from utils # Initialize an instance of the Capm class\n",
    "capm = Capm() # Initialize a dictionary to store CAPM metrics for each asset\n",
    "capm_dict = {} # Calculate CAPM metrics for each asset in comparison to the SPY (used as the market benchmark)\n",
    "for asset in assets: # Calculate CAPM regression for each asset using SPY as the market benchmark and T-Bill rate as the risk-free rate\n",
    "capm_dict[asset] = capm.regression(annual_returns_dict[asset], annual_returns_dict['SPY'], rf) # Create a DataFrame to display the calculated CAPM metrics for each asset\n",
    "df = pd.DataFrame({ # Create a pandas DataFrame from the CAPM dictionary.\n",
    "'Asset': list(capm_dict.keys()), # Add a column for asset names (keys of the dictionary).\n",
    "'Beta': [v['beta'] for v in capm_dict.values()], # Extract the beta coefficient for each asset.\n",
    "'P-Value Beta': [v['p_beta'] for v in capm_dict.values()], # Extract the p-value of beta.\n",
    "'CAPM Expected Return': [v['capm_expected_return'] for v in capm_dict.values()], # Extract the expected return.\n",
    "}) # Display the structured DataFrame in full width\n",
    "pd.set_option('display.max_colwidth', None)\n",
    "print(df) # Print the DataFrame with CAPM metrics for each asset\".\n",
    "\n",
    "In general, I use AI as a tool to quickly clarify syntax or resolve coding questions. However, the core logic and structure of my programs remain my responsibility. I always aim to understand every line of code to ensure accuracy and avoid blindly relying on AI. This approach allows me to detect errors and refine my coding skills effectively."
   ]
  },
  {
   "cell_type": "code",
   "execution_count": null,
   "id": "9c86d0cf-d536-4b1e-95c0-9b980996c466",
   "metadata": {},
   "outputs": [],
   "source": []
  }
 ],
 "metadata": {
  "kernelspec": {
   "display_name": "Programming",
   "language": "python",
   "name": "programming"
  },
  "language_info": {
   "codemirror_mode": {
    "name": "ipython",
    "version": 3
   },
   "file_extension": ".py",
   "mimetype": "text/x-python",
   "name": "python",
   "nbconvert_exporter": "python",
   "pygments_lexer": "ipython3",
   "version": "3.12.5"
  }
 },
 "nbformat": 4,
 "nbformat_minor": 5
}
